{
  "nbformat": 4,
  "nbformat_minor": 0,
  "metadata": {
    "colab": {
      "name": "第3問目.ipynb",
      "provenance": [],
      "collapsed_sections": [],
      "include_colab_link": true
    },
    "kernelspec": {
      "name": "python3",
      "display_name": "Python 3"
    },
    "language_info": {
      "name": "python"
    }
  },
  "cells": [
    {
      "cell_type": "markdown",
      "metadata": {
        "id": "view-in-github",
        "colab_type": "text"
      },
      "source": [
        "<a href=\"https://colab.research.google.com/github/chusonchuson/test/blob/master/%E4%BE%8B%E9%A1%8C_%E8%87%AA%E5%8B%95%E8%BB%8A.ipynb\" target=\"_parent\"><img src=\"https://colab.research.google.com/assets/colab-badge.svg\" alt=\"Open In Colab\"/></a>"
      ]
    },
    {
      "cell_type": "code",
      "metadata": {
        "id": "XiyS81FMDqmz"
      },
      "source": [
        "!pip install gspread\n",
        "\n",
        "from google.colab import auth\n",
        "from oauth2client.client import GoogleCredentials\n",
        "import gspread\n",
        "\n",
        "auth.authenticate_user()\n",
        "gc = gspread.authorize(GoogleCredentials.get_application_default())\n",
        "\n",
        "worksheet = gc.open('自動車会社').get_worksheet(0)"
      ],
      "execution_count": null,
      "outputs": []
    },
    {
      "cell_type": "code",
      "metadata": {
        "id": "CZoh-V5MDvpn"
      },
      "source": [
        "FactList = []\n",
        "for i in range(3,15):\n",
        "  f = worksheet.cell(i, 1).value\n",
        "  if not f == \"\" :\n",
        "    FactList.append(f)\n",
        "\n",
        "PartsList = []\n",
        "for i in range(2,15):\n",
        "  p = worksheet.cell(2, i).value\n",
        "  if not p == \"\":\n",
        "    PartsList.append(p)\n",
        "\n",
        "FactPartsList = []\n",
        "for i in range(3,15):\n",
        "  temp = []\n",
        "  for j in range(2,15):\n",
        "    fp = worksheet.cell(i, j).value\n",
        "    if fp == \"●\":\n",
        "      temp.append(worksheet.cell(2, j).value)\n",
        "  FactPartsList.append(temp)\n",
        "\n",
        "print(FactList)\n",
        "print(PartsList)\n",
        "print(FactPartsList)"
      ],
      "execution_count": null,
      "outputs": []
    },
    {
      "cell_type": "code",
      "metadata": {
        "id": "Niyj4ez16M97"
      },
      "source": [
        "def findFact(FactList, PartsList, FactPartsList):\n",
        "  n = len(FactList)\n",
        "  find = FactList[:]\n",
        "  for i in range(2**n):\n",
        "    Combination = []\n",
        "    num = i\n",
        "    for j in range(n):\n",
        "      if(num % 2 ==1):\n",
        "        Combination = [FactList[n-1-j]] + Combination\n",
        "      num = num // 2\n",
        "    if Meet(Combination, FactList, PartsList, FactPartsList):\n",
        "      if len(find) > len(Combination):\n",
        "        find = Combination\n",
        "  print('最小の工場の組み合わせは', find)\n",
        "\n",
        "def Meet(Combination, FactList, PartsList, FactPartsList):\n",
        "  for part in PartsList:\n",
        "    meet = False\n",
        "    for fact in Combination:\n",
        "      factPart = FactPartsList[FactList.index(fact)]\n",
        "      if part in factPart:\n",
        "        meet = True\n",
        "    if not meet:\n",
        "      return False\n",
        "  return True\n",
        "\n",
        "findFact(FactList, PartsList, FactPartsList)"
      ],
      "execution_count": null,
      "outputs": []
    }
  ]
}